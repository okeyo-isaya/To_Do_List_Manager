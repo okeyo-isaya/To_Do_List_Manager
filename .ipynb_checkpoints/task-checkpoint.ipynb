{
 "cells": [
  {
   "cell_type": "markdown",
   "id": "f230a908-19c0-43fe-abea-4ddd5475be53",
   "metadata": {},
   "source": [
    "# To do list Manager"
   ]
  },
  {
   "cell_type": "code",
   "execution_count": null,
   "id": "5ae3ea20-81c5-43be-b582-a1bea7eeae49",
   "metadata": {},
   "outputs": [
    {
     "name": "stdout",
     "output_type": "stream",
     "text": [
      "Welcome to Ibo Solution\n",
      "Menu:\n",
      "1. Add Task\n",
      "2. View Tasks\n",
      "3. Mark as Done\n",
      "4. Exit\n"
     ]
    }
   ],
   "source": [
    "def display_menu():\n",
    "    print(\"Welcome to Ibo Solution\")\n",
    "    print(\"Menu:\")\n",
    "    print(\"1. Add Task\")\n",
    "    print(\"2. View Tasks\")\n",
    "    print(\"3. Mark as Done\")\n",
    "    print(\"4. Exit\")\n",
    "\n",
    "\n",
    "def add_task(tasks):\n",
    "    task = input(\"Enter task description: \")\n",
    "    tasks.append(task)\n",
    "    print(\"Task added successfully!\")\n",
    "\n",
    "def view_tasks(tasks):\n",
    "    print(\"\\nTasks:\")\n",
    "    for i, task in enumerate(tasks, start=1):\n",
    "        print(f\"{i}. {task}\")\n",
    "\n",
    "\n",
    "def mark_task_done(tasks):\n",
    "    if not tasks:\n",
    "        print(\"No tasks to mark as done.\")\n",
    "        return\n",
    "\n",
    "\n",
    "    view_tasks(tasks)\n",
    "    index = int(input(\"Enter task index to mark as done: \")) - 1\n",
    "    if 0 <= index < len(tasks):\n",
    "        removed_task = tasks.pop(index)\n",
    "        print(f\"Task '{removed_task}' marked as done and removed.\")\n",
    "    else:\n",
    "        print(\"Invalid task index.\")\n",
    "\n",
    "\n",
    "def save_tasks(tasks):\n",
    "    with open(\"tasks.txt\", \"w\") as f:\n",
    "        for task in tasks:\n",
    "            f.write(task + '\\n')\n",
    "def load_tasks():\n",
    "    try:\n",
    "        with open(\"tasks.txt\", \"r\") as f:\n",
    "            return f.read().splitlines()\n",
    "    except FileNotFoundError:\n",
    "        return []\n",
    "\n",
    "\n",
    "def main():\n",
    "    tasks = load_tasks()\n",
    "\n",
    "\n",
    "    while True:\n",
    "        display_menu()\n",
    "\n",
    "\n",
    "        choice = input(\"Enter your task: \")\n",
    "        if choice == '1':\n",
    "            add_task(tasks)\n",
    "        elif choice == '2':\n",
    "            view_tasks(tasks)\n",
    "        elif choice == '3':\n",
    "            mark_task_done(tasks)\n",
    "        elif choice == '4':\n",
    "            print(\"Good Bye, See you next time.\")\n",
    "            save_tasks(tasks)\n",
    "            break\n",
    "        else:\n",
    "            print(\"Invalid choice. Please select a valid option.\")\n",
    "\n",
    "\n",
    "if __name__ == \"__main__\":\n",
    "    main()"
   ]
  },
  {
   "cell_type": "code",
   "execution_count": null,
   "id": "223461e7-5665-411a-b0ad-744cc6cf3f9e",
   "metadata": {},
   "outputs": [],
   "source": []
  }
 ],
 "metadata": {
  "kernelspec": {
   "display_name": "Python 3 (ipykernel)",
   "language": "python",
   "name": "python3"
  },
  "language_info": {
   "codemirror_mode": {
    "name": "ipython",
    "version": 3
   },
   "file_extension": ".py",
   "mimetype": "text/x-python",
   "name": "python",
   "nbconvert_exporter": "python",
   "pygments_lexer": "ipython3",
   "version": "3.11.7"
  }
 },
 "nbformat": 4,
 "nbformat_minor": 5
}
